{
 "cells": [
  {
   "cell_type": "markdown",
   "id": "976d4c12",
   "metadata": {},
   "source": [
    "# Représenter l'évolution et les types de dépôts dans HAL du portail HAL-ENS sur une année en particulier"
   ]
  },
  {
   "cell_type": "markdown",
   "id": "d4ac160c",
   "metadata": {},
   "source": [
    "Import de bibliothèque"
   ]
  },
  {
   "cell_type": "code",
   "execution_count": 60,
   "id": "c08252bc",
   "metadata": {},
   "outputs": [],
   "source": [
    "import pandas as pd, json, requests"
   ]
  },
  {
   "cell_type": "markdown",
   "id": "ac8ae206",
   "metadata": {},
   "source": [
    "Définition des fonctions"
   ]
  },
  {
   "cell_type": "code",
   "execution_count": 61,
   "id": "e033cdfc",
   "metadata": {},
   "outputs": [],
   "source": [
    "def req_tot_month(year, month, subtype) :\n",
    "    req = requests.get(f\"https://api.archives-ouvertes.fr/search/ens/?q=submittedDate_s:{year}-{month}-*&fq=submitType_s:{subtype}&rows=0\")\n",
    "    req = req.json()\n",
    "    num = req['response']['numFound']\n",
    "    return num"
   ]
  },
  {
   "cell_type": "code",
   "execution_count": 62,
   "id": "aeb9d8f1",
   "metadata": {},
   "outputs": [],
   "source": [
    "def req_total(year, month, st) :\n",
    "    \"\"\"nombre de publication pour telle année\"\"\"\n",
    "    req = requests.get(f\"https://api.archives-ouvertes.fr/search/ens/?q=submittedDate_s:{year}-{month}-*&rows=0\")\n",
    "    req = req.json()\n",
    "    tot = req['response']['numFound']\n",
    "    return tot"
   ]
  },
  {
   "cell_type": "markdown",
   "id": "bd618994",
   "metadata": {},
   "source": [
    "Détermination de la période"
   ]
  },
  {
   "cell_type": "code",
   "execution_count": 83,
   "id": "188f135d",
   "metadata": {},
   "outputs": [
    {
     "name": "stdout",
     "output_type": "stream",
     "text": [
      "Année de consultation : 2015\n"
     ]
    }
   ],
   "source": [
    "year = int (input(\"Année de consultation : \"))\n",
    "mois = [\"01\",\"02\",\"03\",\"04\",\"05\",\"06\",\"07\",\"08\",\"09\",\"10\",\"11\",\"12\"]"
   ]
  },
  {
   "cell_type": "markdown",
   "id": "12450394",
   "metadata": {},
   "source": [
    "Pour traduire"
   ]
  },
  {
   "cell_type": "code",
   "execution_count": 84,
   "id": "f5a2ae78",
   "metadata": {},
   "outputs": [],
   "source": [
    "moisstrg = {\"01\":\"janvier\",\"02\":\"février\",\"03\":\"mars\",\"04\":\"avril\",\"05\":\"mai\",\"06\":\"juin\",\"07\":'juillet',\"08\":'août',\"09\":\"septembre\",\"10\":'octobre',\"11\":\"novembre\",\"12\":\"décembre\"}\n",
    "typedoc = {\"file\":\"fichiers\",\"notice\":\"notices\",\"annex\":\"annexes\"}"
   ]
  },
  {
   "cell_type": "markdown",
   "id": "a41544c8",
   "metadata": {},
   "source": [
    "Calculs des statistiques"
   ]
  },
  {
   "cell_type": "code",
   "execution_count": 71,
   "id": "c6193753",
   "metadata": {},
   "outputs": [],
   "source": [
    "totaux = {}\n",
    "subtypes = [\"total\"]\n",
    "for month in mois :\n",
    "    totaux[month] = {}\n",
    "    for st in subtypes :\n",
    "        tot = req_total(year, month, st)\n",
    "        totaux[month][st] = tot\n",
    "totaux=dict([(moisstrg.get(key), value) for key, value in totaux.items()])"
   ]
  },
  {
   "cell_type": "code",
   "execution_count": 88,
   "id": "be9ef6ac",
   "metadata": {},
   "outputs": [
    {
     "data": {
      "text/plain": [
       "{'01': {'file': 145, 'notice': 235, 'annex': 1},\n",
       " '02': {'file': 146, 'notice': 119, 'annex': 0},\n",
       " '03': {'file': 115, 'notice': 115, 'annex': 1},\n",
       " '04': {'file': 65, 'notice': 213, 'annex': 1},\n",
       " '05': {'file': 64, 'notice': 61, 'annex': 1},\n",
       " '06': {'file': 75, 'notice': 42, 'annex': 1},\n",
       " '07': {'file': 41, 'notice': 99, 'annex': 0},\n",
       " '08': {'file': 34, 'notice': 28, 'annex': 0},\n",
       " '09': {'file': 81, 'notice': 121, 'annex': 1},\n",
       " '10': {'file': 53, 'notice': 60, 'annex': 1},\n",
       " '11': {'file': 91, 'notice': 100, 'annex': 1},\n",
       " '12': {'file': 167, 'notice': 113, 'annex': 3}}"
      ]
     },
     "execution_count": 88,
     "metadata": {},
     "output_type": "execute_result"
    }
   ],
   "source": [
    "data = {}\n",
    "subtypes = [\"file\", \"notice\", \"annex\"]\n",
    "for month in mois :\n",
    "    data[month] = {}\n",
    "    for st in subtypes : \n",
    "        num = req_tot_month(year, month, st)\n",
    "        data[month][st] = num\n",
    "data=dict([(moisstrg.get(key), value) for key, value in data.items()])"
   ]
  },
  {
   "cell_type": "markdown",
   "id": "ca9a209f",
   "metadata": {},
   "source": [
    "Transformation en tableau et graphes"
   ]
  },
  {
   "cell_type": "code",
   "execution_count": 78,
   "id": "c11df341",
   "metadata": {},
   "outputs": [
    {
     "data": {
      "text/html": [
       "<div>\n",
       "<style scoped>\n",
       "    .dataframe tbody tr th:only-of-type {\n",
       "        vertical-align: middle;\n",
       "    }\n",
       "\n",
       "    .dataframe tbody tr th {\n",
       "        vertical-align: top;\n",
       "    }\n",
       "\n",
       "    .dataframe thead th {\n",
       "        text-align: right;\n",
       "    }\n",
       "</style>\n",
       "<table border=\"1\" class=\"dataframe\">\n",
       "  <thead>\n",
       "    <tr style=\"text-align: right;\">\n",
       "      <th></th>\n",
       "      <th>janvier</th>\n",
       "      <th>février</th>\n",
       "      <th>mars</th>\n",
       "      <th>avril</th>\n",
       "      <th>mai</th>\n",
       "      <th>juin</th>\n",
       "      <th>juillet</th>\n",
       "      <th>août</th>\n",
       "      <th>septembre</th>\n",
       "      <th>octobre</th>\n",
       "      <th>novembre</th>\n",
       "      <th>décembre</th>\n",
       "    </tr>\n",
       "  </thead>\n",
       "  <tbody>\n",
       "    <tr>\n",
       "      <th>file</th>\n",
       "      <td>193</td>\n",
       "      <td>98</td>\n",
       "      <td>129</td>\n",
       "      <td>117</td>\n",
       "      <td>131</td>\n",
       "      <td>126</td>\n",
       "      <td>133</td>\n",
       "      <td>66</td>\n",
       "      <td>126</td>\n",
       "      <td>201</td>\n",
       "      <td>254</td>\n",
       "      <td>225</td>\n",
       "    </tr>\n",
       "    <tr>\n",
       "      <th>notice</th>\n",
       "      <td>284</td>\n",
       "      <td>149</td>\n",
       "      <td>156</td>\n",
       "      <td>232</td>\n",
       "      <td>210</td>\n",
       "      <td>237</td>\n",
       "      <td>274</td>\n",
       "      <td>256</td>\n",
       "      <td>220</td>\n",
       "      <td>405</td>\n",
       "      <td>526</td>\n",
       "      <td>564</td>\n",
       "    </tr>\n",
       "    <tr>\n",
       "      <th>annex</th>\n",
       "      <td>1</td>\n",
       "      <td>1</td>\n",
       "      <td>0</td>\n",
       "      <td>2</td>\n",
       "      <td>2</td>\n",
       "      <td>0</td>\n",
       "      <td>0</td>\n",
       "      <td>1</td>\n",
       "      <td>1</td>\n",
       "      <td>3</td>\n",
       "      <td>13</td>\n",
       "      <td>4</td>\n",
       "    </tr>\n",
       "    <tr>\n",
       "      <th>total</th>\n",
       "      <td>478</td>\n",
       "      <td>248</td>\n",
       "      <td>285</td>\n",
       "      <td>351</td>\n",
       "      <td>343</td>\n",
       "      <td>363</td>\n",
       "      <td>407</td>\n",
       "      <td>323</td>\n",
       "      <td>347</td>\n",
       "      <td>609</td>\n",
       "      <td>793</td>\n",
       "      <td>793</td>\n",
       "    </tr>\n",
       "  </tbody>\n",
       "</table>\n",
       "</div>"
      ],
      "text/plain": [
       "        janvier  février  mars  avril  mai  juin  juillet  août  septembre  \\\n",
       "file        193       98   129    117  131   126      133    66        126   \n",
       "notice      284      149   156    232  210   237      274   256        220   \n",
       "annex         1        1     0      2    2     0        0     1          1   \n",
       "total       478      248   285    351  343   363      407   323        347   \n",
       "\n",
       "        octobre  novembre  décembre  \n",
       "file        201       254       225  \n",
       "notice      405       526       564  \n",
       "annex         3        13         4  \n",
       "total       609       793       793  "
      ]
     },
     "execution_count": 78,
     "metadata": {},
     "output_type": "execute_result"
    }
   ],
   "source": [
    "dftot = pd.DataFrame.from_dict(totaux)\n",
    "df = pd.DataFrame.from_dict(data)\n",
    "dffin = [df, dftot]\n",
    "dffin = pd.concat(dffin)\n",
    "dffin"
   ]
  },
  {
   "cell_type": "code",
   "execution_count": 82,
   "id": "f0dc630a",
   "metadata": {},
   "outputs": [
    {
     "data": {
      "text/plain": [
       "<AxesSubplot:>"
      ]
     },
     "execution_count": 82,
     "metadata": {},
     "output_type": "execute_result"
    },
    {
     "data": {
      "image/png": "[encoded data removed]",
      "text/plain": [
       "<Figure size 432x288 with 1 Axes>"
      ]
     },
     "metadata": {
      "needs_background": "light"
     },
     "output_type": "display_data"
    }
   ],
   "source": [
    "df = df.T # pour inverser colonnes et lignes\n",
    "df.plot.bar(stacked = True)"
   ]
  }
 ],
 "metadata": {
  "kernelspec": {
   "display_name": "Python 3 (ipykernel)",
   "language": "python",
   "name": "python3"
  },
  "language_info": {
   "codemirror_mode": {
    "name": "ipython",
    "version": 3
   },
   "file_extension": ".py",
   "mimetype": "text/x-python",
   "name": "python",
   "nbconvert_exporter": "python",
   "pygments_lexer": "ipython3",
   "version": "3.9.12"
  }
 },
 "nbformat": 4,
 "nbformat_minor": 5
}
