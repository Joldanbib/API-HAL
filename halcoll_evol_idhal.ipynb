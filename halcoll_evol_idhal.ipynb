{
 "cells": [
  {
   "cell_type": "markdown",
   "id": "83113591",
   "metadata": {},
   "source": [
    "## Requetes nbre de notices dans une collection pour un auteur"
   ]
  },
  {
   "cell_type": "code",
   "execution_count": 57,
   "id": "0a97815d",
   "metadata": {},
   "outputs": [],
   "source": [
    "import pandas as pd, json, requests"
   ]
  },
  {
   "cell_type": "code",
   "execution_count": 67,
   "id": "3fc27bf9",
   "metadata": {},
   "outputs": [],
   "source": [
    "def req_idhal(year, TAMPID, idhal, subtype) :\n",
    "    \"\"\"nombre de publication pour telle année pour tel type de dépôt\"\"\"\n",
    "    req = requests.get(f\"http://api.archives-ouvertes.fr/search/{TAMPID}/?q=authIdHal_s:{idhal}&fq=submittedDateY_i:{year}&rows=0\")\n",
    "    req = req.json()\n",
    "    num = req['response']['numFound']\n",
    "    return num"
   ]
  },
  {
   "cell_type": "code",
   "execution_count": 74,
   "id": "ac0eb885",
   "metadata": {},
   "outputs": [],
   "source": [
    "def req_idhal_an(year, TAMPID, idhal, subtype) :\n",
    "    \"\"\"nombre de publication pour dans la collection\"\"\"\n",
    "    req = requests.get(f\"https://api.archives-ouvertes.fr/search/{TAMPID}/?q=authIdHal_s:{idhal}&fq=submittedDateY_i:{year}&fq=submitType_s:{subtype}&rows=0\")\n",
    "    req = req.json()\n",
    "    tot = req['response']['numFound']\n",
    "    return tot"
   ]
  },
  {
   "cell_type": "markdown",
   "id": "53fc1e53",
   "metadata": {},
   "source": [
    "Pour quelle collection et quel auteur ?"
   ]
  },
  {
   "cell_type": "code",
   "execution_count": 78,
   "id": "2436becc",
   "metadata": {},
   "outputs": [
    {
     "name": "stdout",
     "output_type": "stream",
     "text": [
      "Quel est le TAMPID de la collection ? (en majuscules) : MATH_ENS_PARIS\n",
      "IdHAL : gpeyre\n",
      "Année de départ : 2018\n",
      "Année de fin : 2023\n"
     ]
    }
   ],
   "source": [
    "TAMPID = input(\"Quel est le TAMPID de la collection ? (en majuscules) : \")\n",
    "idhal = input(\"IdHAL : \")\n",
    "year1 = int (input(\"Année de départ : \"))\n",
    "year2 = int (input(\"Année de fin : \"))"
   ]
  },
  {
   "cell_type": "markdown",
   "id": "e39625be",
   "metadata": {},
   "source": [
    "Récupération des données"
   ]
  },
  {
   "cell_type": "code",
   "execution_count": 79,
   "id": "3d33d1a2",
   "metadata": {},
   "outputs": [],
   "source": [
    "totaux = {}\n",
    "subtypes = [\"total\"]\n",
    "for year in range(year1, year2+1):\n",
    "    totaux[year] = {}\n",
    "    for st in subtypes :\n",
    "        tot = req_idhal(year, TAMPID, idhal, st)\n",
    "        totaux[year][st] = tot"
   ]
  },
  {
   "cell_type": "code",
   "execution_count": 80,
   "id": "6cf6ea5a",
   "metadata": {},
   "outputs": [],
   "source": [
    "data = {}\n",
    "subtypes = [\"file\", \"notice\", \"annex\"]\n",
    "for year in range(year1, year2+1):\n",
    "    data[year] = {}\n",
    "    for st in subtypes : \n",
    "        num = req_idhal_an(year, TAMPID, idhal, st)\n",
    "        data[year][st] = num"
   ]
  },
  {
   "cell_type": "markdown",
   "id": "26101031",
   "metadata": {},
   "source": [
    "Transformation en tableau et graphes"
   ]
  },
  {
   "cell_type": "code",
   "execution_count": 81,
   "id": "8981b293",
   "metadata": {},
   "outputs": [
    {
     "data": {
      "text/html": [
       "<div>\n",
       "<style scoped>\n",
       "    .dataframe tbody tr th:only-of-type {\n",
       "        vertical-align: middle;\n",
       "    }\n",
       "\n",
       "    .dataframe tbody tr th {\n",
       "        vertical-align: top;\n",
       "    }\n",
       "\n",
       "    .dataframe thead th {\n",
       "        text-align: right;\n",
       "    }\n",
       "</style>\n",
       "<table border=\"1\" class=\"dataframe\">\n",
       "  <thead>\n",
       "    <tr style=\"text-align: right;\">\n",
       "      <th></th>\n",
       "      <th>2018</th>\n",
       "      <th>2019</th>\n",
       "      <th>2020</th>\n",
       "      <th>2021</th>\n",
       "      <th>2022</th>\n",
       "      <th>2023</th>\n",
       "    </tr>\n",
       "  </thead>\n",
       "  <tbody>\n",
       "    <tr>\n",
       "      <th>file</th>\n",
       "      <td>4</td>\n",
       "      <td>2</td>\n",
       "      <td>5</td>\n",
       "      <td>0</td>\n",
       "      <td>1</td>\n",
       "      <td>0</td>\n",
       "    </tr>\n",
       "    <tr>\n",
       "      <th>notice</th>\n",
       "      <td>0</td>\n",
       "      <td>6</td>\n",
       "      <td>3</td>\n",
       "      <td>1</td>\n",
       "      <td>0</td>\n",
       "      <td>0</td>\n",
       "    </tr>\n",
       "    <tr>\n",
       "      <th>annex</th>\n",
       "      <td>0</td>\n",
       "      <td>0</td>\n",
       "      <td>0</td>\n",
       "      <td>0</td>\n",
       "      <td>0</td>\n",
       "      <td>0</td>\n",
       "    </tr>\n",
       "    <tr>\n",
       "      <th>total</th>\n",
       "      <td>4</td>\n",
       "      <td>8</td>\n",
       "      <td>8</td>\n",
       "      <td>1</td>\n",
       "      <td>1</td>\n",
       "      <td>0</td>\n",
       "    </tr>\n",
       "  </tbody>\n",
       "</table>\n",
       "</div>"
      ],
      "text/plain": [
       "        2018  2019  2020  2021  2022  2023\n",
       "file       4     2     5     0     1     0\n",
       "notice     0     6     3     1     0     0\n",
       "annex      0     0     0     0     0     0\n",
       "total      4     8     8     1     1     0"
      ]
     },
     "execution_count": 81,
     "metadata": {},
     "output_type": "execute_result"
    }
   ],
   "source": [
    "dftot = pd.DataFrame.from_dict(totaux)\n",
    "df = pd.DataFrame.from_dict(data)\n",
    "dffin = [df, dftot]\n",
    "dffin = pd.concat(dffin)\n",
    "dffin"
   ]
  },
  {
   "cell_type": "code",
   "execution_count": 82,
   "id": "243aa661",
   "metadata": {},
   "outputs": [
    {
     "data": {
      "text/plain": [
       "<AxesSubplot:>"
      ]
     },
     "execution_count": 82,
     "metadata": {},
     "output_type": "execute_result"
    },
    {
     "data": {
      "image/png": "[encoded data removed]",
      "text/plain": [
       "<Figure size 432x288 with 1 Axes>"
      ]
     },
     "metadata": {
      "needs_background": "light"
     },
     "output_type": "display_data"
    }
   ],
   "source": [
    "df = df.T # pour inverser colonnes et lignes\n",
    "df.plot.bar(stacked = True)"
   ]
  },
  {
   "cell_type": "code",
   "execution_count": null,
   "id": "45267390",
   "metadata": {},
   "outputs": [],
   "source": []
  }
 ],
 "metadata": {
  "kernelspec": {
   "display_name": "Python 3 (ipykernel)",
   "language": "python",
   "name": "python3"
  },
  "language_info": {
   "codemirror_mode": {
    "name": "ipython",
    "version": 3
   },
   "file_extension": ".py",
   "mimetype": "text/x-python",
   "name": "python",
   "nbconvert_exporter": "python",
   "pygments_lexer": "ipython3",
   "version": "3.9.12"
  }
 },
 "nbformat": 4,
 "nbformat_minor": 5
}
