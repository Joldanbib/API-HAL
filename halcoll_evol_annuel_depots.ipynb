{
 "cells": [
  {
   "cell_type": "markdown",
   "id": "976d4c12",
   "metadata": {},
   "source": [
    "# Représenter l'évolution annuelle et les types de dépôts dans les collections de HAL"
   ]
  },
  {
   "cell_type": "markdown",
   "id": "d4ac160c",
   "metadata": {},
   "source": [
    "Import de bibliothèque"
   ]
  },
  {
   "cell_type": "code",
   "execution_count": 47,
   "id": "c08252bc",
   "metadata": {},
   "outputs": [],
   "source": [
    "import pandas as pd, json, requests"
   ]
  },
  {
   "cell_type": "markdown",
   "id": "ac8ae206",
   "metadata": {},
   "source": [
    "Définition des fonctions"
   ]
  },
  {
   "cell_type": "code",
   "execution_count": 48,
   "id": "c0de82a9",
   "metadata": {},
   "outputs": [],
   "source": [
    "def req_hal(year, TAMPID, subtype) :\n",
    "    \"\"\"nombre de publication pour telle année pour tel type de dépôt\"\"\"\n",
    "    req = requests.get(f\"http://api.archives-ouvertes.fr/search/{TAMPID}/?q=submittedDateY_i:{year}&fq=NOT+status_i:111&fq=submitType_s:{subtype}&rows=0\")\n",
    "    req = req.json()\n",
    "    num = req['response']['numFound']\n",
    "    return num"
   ]
  },
  {
   "cell_type": "code",
   "execution_count": 49,
   "id": "b45e752b",
   "metadata": {},
   "outputs": [],
   "source": [
    "def req_total(year, TAMPID, st) :\n",
    "    \"\"\"nombre de publication pour telle année\"\"\"\n",
    "    req = requests.get(f\"https://api.archives-ouvertes.fr/search/{TAMPID}/?q=submittedDateY_i:{year}&fq=NOT+status_i:111&rows=0\")\n",
    "    req = req.json()\n",
    "    tot = req['response']['numFound']\n",
    "    return tot"
   ]
  },
  {
   "cell_type": "markdown",
   "id": "bd618994",
   "metadata": {},
   "source": [
    "Détermination de la collection et de la période"
   ]
  },
  {
   "cell_type": "code",
   "execution_count": 50,
   "id": "188f135d",
   "metadata": {},
   "outputs": [
    {
     "name": "stdout",
     "output_type": "stream",
     "text": [
      "Quel est le TAMPID de la collection ? (en majuscules) : DEC\n",
      "Année de départ : 2017\n",
      "Année de fin : 2018\n"
     ]
    }
   ],
   "source": [
    "TAMPID = input(\"Quel est le TAMPID de la collection ? (en majuscules) : \")\n",
    "year1 = int (input(\"Année de départ : \"))\n",
    "year2 = int (input(\"Année de fin : \"))"
   ]
  },
  {
   "cell_type": "markdown",
   "id": "a41544c8",
   "metadata": {},
   "source": [
    "Calculs des statistiques"
   ]
  },
  {
   "cell_type": "code",
   "execution_count": 51,
   "id": "c6193753",
   "metadata": {},
   "outputs": [],
   "source": [
    "totaux = {}\n",
    "subtypes = [\"total\"]\n",
    "for year in range(year1, year2+1):\n",
    "    totaux[year] = {}\n",
    "    for st in subtypes :\n",
    "        tot = req_total(year, TAMPID, st)\n",
    "        totaux[year][st] = tot"
   ]
  },
  {
   "cell_type": "code",
   "execution_count": 52,
   "id": "e2ce525f",
   "metadata": {},
   "outputs": [],
   "source": [
    "data = {}\n",
    "subtypes = [\"file\", \"notice\", \"annex\"]\n",
    "for year in range(year1, year2+1):\n",
    "    data[year] = {}\n",
    "    for st in subtypes : \n",
    "        num = req_hal(year, TAMPID, st)\n",
    "        data[year][st] = num"
   ]
  },
  {
   "cell_type": "markdown",
   "id": "ca9a209f",
   "metadata": {},
   "source": [
    "Transformation en tableau et graphes"
   ]
  },
  {
   "cell_type": "code",
   "execution_count": 53,
   "id": "c11df341",
   "metadata": {},
   "outputs": [
    {
     "data": {
      "text/html": [
       "<div>\n",
       "<style scoped>\n",
       "    .dataframe tbody tr th:only-of-type {\n",
       "        vertical-align: middle;\n",
       "    }\n",
       "\n",
       "    .dataframe tbody tr th {\n",
       "        vertical-align: top;\n",
       "    }\n",
       "\n",
       "    .dataframe thead th {\n",
       "        text-align: right;\n",
       "    }\n",
       "</style>\n",
       "<table border=\"1\" class=\"dataframe\">\n",
       "  <thead>\n",
       "    <tr style=\"text-align: right;\">\n",
       "      <th></th>\n",
       "      <th>2017</th>\n",
       "      <th>2018</th>\n",
       "    </tr>\n",
       "  </thead>\n",
       "  <tbody>\n",
       "    <tr>\n",
       "      <th>file</th>\n",
       "      <td>32</td>\n",
       "      <td>33</td>\n",
       "    </tr>\n",
       "    <tr>\n",
       "      <th>notice</th>\n",
       "      <td>68</td>\n",
       "      <td>55</td>\n",
       "    </tr>\n",
       "    <tr>\n",
       "      <th>annex</th>\n",
       "      <td>0</td>\n",
       "      <td>1</td>\n",
       "    </tr>\n",
       "    <tr>\n",
       "      <th>total</th>\n",
       "      <td>100</td>\n",
       "      <td>89</td>\n",
       "    </tr>\n",
       "  </tbody>\n",
       "</table>\n",
       "</div>"
      ],
      "text/plain": [
       "        2017  2018\n",
       "file      32    33\n",
       "notice    68    55\n",
       "annex      0     1\n",
       "total    100    89"
      ]
     },
     "execution_count": 53,
     "metadata": {},
     "output_type": "execute_result"
    }
   ],
   "source": [
    "dftot = pd.DataFrame.from_dict(totaux)\n",
    "df = pd.DataFrame.from_dict(data)\n",
    "dffin = [df, dftot]\n",
    "dffin = pd.concat(dffin)\n",
    "dffin"
   ]
  },
  {
   "cell_type": "code",
   "execution_count": 54,
   "id": "0df3a0d4",
   "metadata": {},
   "outputs": [
    {
     "data": {
      "text/plain": [
       "<AxesSubplot:>"
      ]
     },
     "execution_count": 54,
     "metadata": {},
     "output_type": "execute_result"
    },
    {
     "data": {
      "image/png": "[encoded data removed]",
      "text/plain": [
       "<Figure size 432x288 with 1 Axes>"
      ]
     },
     "metadata": {
      "needs_background": "light"
     },
     "output_type": "display_data"
    }
   ],
   "source": [
    "df = df.T # pour inverser colonnes et lignes\n",
    "df.plot.bar(stacked = True)"
   ]
  }
 ],
 "metadata": {
  "kernelspec": {
   "display_name": "Python 3 (ipykernel)",
   "language": "python",
   "name": "python3"
  },
  "language_info": {
   "codemirror_mode": {
    "name": "ipython",
    "version": 3
   },
   "file_extension": ".py",
   "mimetype": "text/x-python",
   "name": "python",
   "nbconvert_exporter": "python",
   "pygments_lexer": "ipython3",
   "version": "3.9.12"
  }
 },
 "nbformat": 4,
 "nbformat_minor": 5
}
