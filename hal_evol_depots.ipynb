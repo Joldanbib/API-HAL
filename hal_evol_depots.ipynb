{
 "cells": [
  {
   "cell_type": "markdown",
   "id": "976d4c12",
   "metadata": {},
   "source": [
    "# Représenter l'évolution et les types de dépôts dans HAL du portail HAL-ENS"
   ]
  },
  {
   "cell_type": "markdown",
   "id": "d4ac160c",
   "metadata": {},
   "source": [
    "Import de bibliothèque"
   ]
  },
  {
   "cell_type": "code",
   "execution_count": 1,
   "id": "c08252bc",
   "metadata": {},
   "outputs": [],
   "source": [
    "import pandas as pd, json, requests"
   ]
  },
  {
   "cell_type": "markdown",
   "id": "ac8ae206",
   "metadata": {},
   "source": [
    "Définition des fonctions"
   ]
  },
  {
   "cell_type": "code",
   "execution_count": 5,
   "id": "c0de82a9",
   "metadata": {},
   "outputs": [],
   "source": [
    "def req_hal(year, subtype) :\n",
    "    \"\"\"nombre de publication pour telle année pour tel type de dépôt\"\"\"\n",
    "    req = requests.get(f\"https://api.archives-ouvertes.fr/search/ens/?q=submittedDateY_i:{year}&fq=submitType_s:{subtype}&rows=0\")\n",
    "    req = req.json()\n",
    "    num = req['response']['numFound']\n",
    "    return num"
   ]
  },
  {
   "cell_type": "code",
   "execution_count": 42,
   "id": "b45e752b",
   "metadata": {},
   "outputs": [],
   "source": [
    "def req_total(year, st) :\n",
    "    \"\"\"nombre de publication pour telle année\"\"\"\n",
    "    req = requests.get(f\"https://api.archives-ouvertes.fr/search/ens/?q=submittedDateY_i:{year}&rows=0\")\n",
    "    req = req.json()\n",
    "    tot = req['response']['numFound']\n",
    "    return tot"
   ]
  },
  {
   "cell_type": "markdown",
   "id": "bd618994",
   "metadata": {},
   "source": [
    "Détermination de la période"
   ]
  },
  {
   "cell_type": "code",
   "execution_count": 118,
   "id": "188f135d",
   "metadata": {},
   "outputs": [
    {
     "name": "stdout",
     "output_type": "stream",
     "text": [
      "Année de départ : 2001\n",
      "Année de fin : 2016\n"
     ]
    }
   ],
   "source": [
    "year1 = int (input(\"Année de départ : \"))\n",
    "year2 = int (input(\"Année de fin : \"))"
   ]
  },
  {
   "cell_type": "markdown",
   "id": "a41544c8",
   "metadata": {},
   "source": [
    "Calculs des statistiques"
   ]
  },
  {
   "cell_type": "code",
   "execution_count": 124,
   "id": "c6193753",
   "metadata": {},
   "outputs": [],
   "source": [
    "totaux = {}\n",
    "subtypes = [\"total\"]\n",
    "for year in range(year1, year2+1):\n",
    "    totaux[year] = {}\n",
    "    for st in subtypes :\n",
    "        tot = req_total(year, st)\n",
    "        totaux[year][st] = tot"
   ]
  },
  {
   "cell_type": "code",
   "execution_count": null,
   "id": "e2ce525f",
   "metadata": {},
   "outputs": [],
   "source": [
    "data = {}\n",
    "subtypes = [\"file\", \"notice\", \"annex\"]\n",
    "for year in range(year1, year2+1):\n",
    "    data[year] = {}\n",
    "    for st in subtypes : \n",
    "        num = req_hal(year, st)\n",
    "        data[year][st] = num"
   ]
  },
  {
   "cell_type": "markdown",
   "id": "ca9a209f",
   "metadata": {},
   "source": [
    "Transformation en tableau et graphes"
   ]
  },
  {
   "cell_type": "code",
   "execution_count": 121,
   "id": "c11df341",
   "metadata": {},
   "outputs": [
    {
     "data": {
      "text/html": [
       "<div>\n",
       "<style scoped>\n",
       "    .dataframe tbody tr th:only-of-type {\n",
       "        vertical-align: middle;\n",
       "    }\n",
       "\n",
       "    .dataframe tbody tr th {\n",
       "        vertical-align: top;\n",
       "    }\n",
       "\n",
       "    .dataframe thead th {\n",
       "        text-align: right;\n",
       "    }\n",
       "</style>\n",
       "<table border=\"1\" class=\"dataframe\">\n",
       "  <thead>\n",
       "    <tr style=\"text-align: right;\">\n",
       "      <th></th>\n",
       "      <th>2001</th>\n",
       "      <th>2002</th>\n",
       "      <th>2003</th>\n",
       "      <th>2004</th>\n",
       "      <th>2005</th>\n",
       "      <th>2006</th>\n",
       "      <th>2007</th>\n",
       "      <th>2008</th>\n",
       "      <th>2009</th>\n",
       "      <th>2010</th>\n",
       "      <th>2011</th>\n",
       "      <th>2012</th>\n",
       "      <th>2013</th>\n",
       "      <th>2014</th>\n",
       "      <th>2015</th>\n",
       "      <th>2016</th>\n",
       "    </tr>\n",
       "  </thead>\n",
       "  <tbody>\n",
       "    <tr>\n",
       "      <th>file</th>\n",
       "      <td>7</td>\n",
       "      <td>212</td>\n",
       "      <td>146</td>\n",
       "      <td>242</td>\n",
       "      <td>200</td>\n",
       "      <td>615</td>\n",
       "      <td>460</td>\n",
       "      <td>506</td>\n",
       "      <td>524</td>\n",
       "      <td>547</td>\n",
       "      <td>928</td>\n",
       "      <td>613</td>\n",
       "      <td>635</td>\n",
       "      <td>788</td>\n",
       "      <td>1077</td>\n",
       "      <td>1278</td>\n",
       "    </tr>\n",
       "    <tr>\n",
       "      <th>notice</th>\n",
       "      <td>0</td>\n",
       "      <td>0</td>\n",
       "      <td>3</td>\n",
       "      <td>220</td>\n",
       "      <td>358</td>\n",
       "      <td>694</td>\n",
       "      <td>969</td>\n",
       "      <td>913</td>\n",
       "      <td>1174</td>\n",
       "      <td>856</td>\n",
       "      <td>983</td>\n",
       "      <td>2731</td>\n",
       "      <td>2939</td>\n",
       "      <td>1292</td>\n",
       "      <td>1306</td>\n",
       "      <td>1376</td>\n",
       "    </tr>\n",
       "    <tr>\n",
       "      <th>annex</th>\n",
       "      <td>0</td>\n",
       "      <td>0</td>\n",
       "      <td>0</td>\n",
       "      <td>0</td>\n",
       "      <td>0</td>\n",
       "      <td>0</td>\n",
       "      <td>0</td>\n",
       "      <td>0</td>\n",
       "      <td>0</td>\n",
       "      <td>0</td>\n",
       "      <td>0</td>\n",
       "      <td>0</td>\n",
       "      <td>0</td>\n",
       "      <td>1</td>\n",
       "      <td>11</td>\n",
       "      <td>19</td>\n",
       "    </tr>\n",
       "    <tr>\n",
       "      <th>total</th>\n",
       "      <td>7</td>\n",
       "      <td>212</td>\n",
       "      <td>149</td>\n",
       "      <td>462</td>\n",
       "      <td>558</td>\n",
       "      <td>1309</td>\n",
       "      <td>1429</td>\n",
       "      <td>1419</td>\n",
       "      <td>1698</td>\n",
       "      <td>1403</td>\n",
       "      <td>1911</td>\n",
       "      <td>3344</td>\n",
       "      <td>3574</td>\n",
       "      <td>2081</td>\n",
       "      <td>2394</td>\n",
       "      <td>2673</td>\n",
       "    </tr>\n",
       "  </tbody>\n",
       "</table>\n",
       "</div>"
      ],
      "text/plain": [
       "        2001  2002  2003  2004  2005  2006  2007  2008  2009  2010  2011  \\\n",
       "file       7   212   146   242   200   615   460   506   524   547   928   \n",
       "notice     0     0     3   220   358   694   969   913  1174   856   983   \n",
       "annex      0     0     0     0     0     0     0     0     0     0     0   \n",
       "total      7   212   149   462   558  1309  1429  1419  1698  1403  1911   \n",
       "\n",
       "        2012  2013  2014  2015  2016  \n",
       "file     613   635   788  1077  1278  \n",
       "notice  2731  2939  1292  1306  1376  \n",
       "annex      0     0     1    11    19  \n",
       "total   3344  3574  2081  2394  2673  "
      ]
     },
     "execution_count": 121,
     "metadata": {},
     "output_type": "execute_result"
    }
   ],
   "source": [
    "dftot = pd.DataFrame.from_dict(totaux)\n",
    "df = pd.DataFrame.from_dict(data)\n",
    "dffin = [df, dftot]\n",
    "dffin = pd.concat(dffin)\n",
    "dffin"
   ]
  },
  {
   "cell_type": "code",
   "execution_count": 122,
   "id": "0df3a0d4",
   "metadata": {},
   "outputs": [
    {
     "data": {
      "text/plain": [
       "<AxesSubplot:>"
      ]
     },
     "execution_count": 122,
     "metadata": {},
     "output_type": "execute_result"
    },
    {
     "data": {
      "image/png": "[encoded data removed]",
      "text/plain": [
       "<Figure size 432x288 with 1 Axes>"
      ]
     },
     "metadata": {
      "needs_background": "light"
     },
     "output_type": "display_data"
    }
   ],
   "source": [
    "df = df.T # pour inverser colonnes et lignes\n",
    "df.plot.bar(stacked = True)"
   ]
  }
 ],
 "metadata": {
  "kernelspec": {
   "display_name": "Python 3 (ipykernel)",
   "language": "python",
   "name": "python3"
  },
  "language_info": {
   "codemirror_mode": {
    "name": "ipython",
    "version": 3
   },
   "file_extension": ".py",
   "mimetype": "text/x-python",
   "name": "python",
   "nbconvert_exporter": "python",
   "pygments_lexer": "ipython3",
   "version": "3.9.12"
  }
 },
 "nbformat": 4,
 "nbformat_minor": 5
}
