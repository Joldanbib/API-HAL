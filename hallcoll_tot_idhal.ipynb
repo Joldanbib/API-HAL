{
 "cells": [
  {
   "cell_type": "markdown",
   "id": "83113591",
   "metadata": {},
   "source": [
    "## Requetes nbre de notices dans une collection par auteur doté d'un IdHAL"
   ]
  },
  {
   "cell_type": "code",
   "execution_count": 5,
   "id": "0a97815d",
   "metadata": {},
   "outputs": [],
   "source": [
    "import pandas as pd, json, requests"
   ]
  },
  {
   "cell_type": "code",
   "execution_count": 4,
   "id": "3fc27bf9",
   "metadata": {},
   "outputs": [],
   "source": [
    "def req_idhal(TAMPID, idhal, subtype) :\n",
    "    \"\"\"nombre de publication pour telle année pour tel type de dépôt\"\"\"\n",
    "    req = requests.get(f\"http://api.archives-ouvertes.fr/search/{TAMPID}/?q=authIdHal_s:{idhal}&rows=0\")\n",
    "    req = req.json()\n",
    "    num = req['response']['numFound']\n",
    "    return num"
   ]
  },
  {
   "cell_type": "code",
   "execution_count": 31,
   "id": "ac0eb885",
   "metadata": {},
   "outputs": [],
   "source": [
    "def req_idhal_an(TAMPID, idhal, subtype) :\n",
    "    \"\"\"nombre de publication pour dans la collection\"\"\"\n",
    "    req = requests.get(f\"https://api.archives-ouvertes.fr/search/{TAMPID}/?q=authIdHal_s:{idhal}&fq=submitType_s:{subtype}&rows=0\")\n",
    "    req = req.json()\n",
    "    tot = req['response']['numFound']\n",
    "    return tot"
   ]
  },
  {
   "cell_type": "markdown",
   "id": "53fc1e53",
   "metadata": {},
   "source": [
    "Définition de la collection et de la liste d'IdHAL"
   ]
  },
  {
   "cell_type": "code",
   "execution_count": 24,
   "id": "2436becc",
   "metadata": {},
   "outputs": [],
   "source": [
    "TAMPID = 'MATH_ENS_PARIS'\n",
    "idhals = ['annabenhamou', 'bastien-mallein', 'cyril-imbert', 'davidgontier', 'djalil-chafai', 'emmanuel-giroux', 'gaetan-chenevier', 'gpeyre', 'isabelle-gallagher', 'laure-dumaz', 'laurentmoonens', 'moussa', 'nicolas-bergeron', 'olivier-benoist', 'quentin-berger', 'ricardo-grande-izquierdo', 'silvain-rideau-kikuchi', 'zaccharie-ramzi']"
   ]
  },
  {
   "cell_type": "markdown",
   "id": "e39625be",
   "metadata": {},
   "source": [
    "Récupération des données"
   ]
  },
  {
   "cell_type": "code",
   "execution_count": 25,
   "id": "3d33d1a2",
   "metadata": {},
   "outputs": [],
   "source": [
    "totaux = {}\n",
    "subtypes = [\"total\"]\n",
    "for idhal in idhals:\n",
    "    totaux[idhal] = {}\n",
    "    for st in subtypes :\n",
    "        tot = req_idhal(TAMPID, idhal, st)\n",
    "        totaux[idhal][st] = tot"
   ]
  },
  {
   "cell_type": "code",
   "execution_count": 32,
   "id": "86ba46d6",
   "metadata": {},
   "outputs": [],
   "source": [
    "data = {}\n",
    "subtypes = [\"file\", \"notice\", \"annex\"]\n",
    "for idhal in idhals:\n",
    "    data[idhal] = {}\n",
    "    for st in subtypes : \n",
    "        num = req_idhal_an(TAMPID, idhal, st)\n",
    "        data[idhal][st] = num"
   ]
  },
  {
   "cell_type": "markdown",
   "id": "26101031",
   "metadata": {},
   "source": [
    "Transformation en tableau et graphes"
   ]
  },
  {
   "cell_type": "code",
   "execution_count": 33,
   "id": "8981b293",
   "metadata": {},
   "outputs": [
    {
     "data": {
      "text/html": [
       "<div>\n",
       "<style scoped>\n",
       "    .dataframe tbody tr th:only-of-type {\n",
       "        vertical-align: middle;\n",
       "    }\n",
       "\n",
       "    .dataframe tbody tr th {\n",
       "        vertical-align: top;\n",
       "    }\n",
       "\n",
       "    .dataframe thead th {\n",
       "        text-align: right;\n",
       "    }\n",
       "</style>\n",
       "<table border=\"1\" class=\"dataframe\">\n",
       "  <thead>\n",
       "    <tr style=\"text-align: right;\">\n",
       "      <th></th>\n",
       "      <th>file</th>\n",
       "      <th>notice</th>\n",
       "      <th>annex</th>\n",
       "      <th>total</th>\n",
       "    </tr>\n",
       "  </thead>\n",
       "  <tbody>\n",
       "    <tr>\n",
       "      <th>annabenhamou</th>\n",
       "      <td>0</td>\n",
       "      <td>0</td>\n",
       "      <td>0</td>\n",
       "      <td>0</td>\n",
       "    </tr>\n",
       "    <tr>\n",
       "      <th>bastien-mallein</th>\n",
       "      <td>19</td>\n",
       "      <td>0</td>\n",
       "      <td>0</td>\n",
       "      <td>19</td>\n",
       "    </tr>\n",
       "    <tr>\n",
       "      <th>cyril-imbert</th>\n",
       "      <td>13</td>\n",
       "      <td>5</td>\n",
       "      <td>0</td>\n",
       "      <td>18</td>\n",
       "    </tr>\n",
       "    <tr>\n",
       "      <th>davidgontier</th>\n",
       "      <td>0</td>\n",
       "      <td>0</td>\n",
       "      <td>0</td>\n",
       "      <td>0</td>\n",
       "    </tr>\n",
       "    <tr>\n",
       "      <th>djalil-chafai</th>\n",
       "      <td>1</td>\n",
       "      <td>1</td>\n",
       "      <td>0</td>\n",
       "      <td>2</td>\n",
       "    </tr>\n",
       "    <tr>\n",
       "      <th>emmanuel-giroux</th>\n",
       "      <td>0</td>\n",
       "      <td>0</td>\n",
       "      <td>0</td>\n",
       "      <td>0</td>\n",
       "    </tr>\n",
       "    <tr>\n",
       "      <th>gaetan-chenevier</th>\n",
       "      <td>0</td>\n",
       "      <td>0</td>\n",
       "      <td>0</td>\n",
       "      <td>0</td>\n",
       "    </tr>\n",
       "    <tr>\n",
       "      <th>gpeyre</th>\n",
       "      <td>22</td>\n",
       "      <td>13</td>\n",
       "      <td>0</td>\n",
       "      <td>35</td>\n",
       "    </tr>\n",
       "    <tr>\n",
       "      <th>isabelle-gallagher</th>\n",
       "      <td>28</td>\n",
       "      <td>0</td>\n",
       "      <td>0</td>\n",
       "      <td>28</td>\n",
       "    </tr>\n",
       "    <tr>\n",
       "      <th>laure-dumaz</th>\n",
       "      <td>0</td>\n",
       "      <td>4</td>\n",
       "      <td>0</td>\n",
       "      <td>4</td>\n",
       "    </tr>\n",
       "    <tr>\n",
       "      <th>laurentmoonens</th>\n",
       "      <td>0</td>\n",
       "      <td>0</td>\n",
       "      <td>0</td>\n",
       "      <td>0</td>\n",
       "    </tr>\n",
       "    <tr>\n",
       "      <th>moussa</th>\n",
       "      <td>0</td>\n",
       "      <td>0</td>\n",
       "      <td>0</td>\n",
       "      <td>0</td>\n",
       "    </tr>\n",
       "    <tr>\n",
       "      <th>nicolas-bergeron</th>\n",
       "      <td>3</td>\n",
       "      <td>0</td>\n",
       "      <td>0</td>\n",
       "      <td>3</td>\n",
       "    </tr>\n",
       "    <tr>\n",
       "      <th>olivier-benoist</th>\n",
       "      <td>0</td>\n",
       "      <td>15</td>\n",
       "      <td>0</td>\n",
       "      <td>15</td>\n",
       "    </tr>\n",
       "    <tr>\n",
       "      <th>quentin-berger</th>\n",
       "      <td>0</td>\n",
       "      <td>0</td>\n",
       "      <td>0</td>\n",
       "      <td>0</td>\n",
       "    </tr>\n",
       "    <tr>\n",
       "      <th>ricardo-grande-izquierdo</th>\n",
       "      <td>1</td>\n",
       "      <td>0</td>\n",
       "      <td>0</td>\n",
       "      <td>1</td>\n",
       "    </tr>\n",
       "    <tr>\n",
       "      <th>silvain-rideau-kikuchi</th>\n",
       "      <td>1</td>\n",
       "      <td>0</td>\n",
       "      <td>0</td>\n",
       "      <td>1</td>\n",
       "    </tr>\n",
       "    <tr>\n",
       "      <th>zaccharie-ramzi</th>\n",
       "      <td>0</td>\n",
       "      <td>0</td>\n",
       "      <td>0</td>\n",
       "      <td>0</td>\n",
       "    </tr>\n",
       "  </tbody>\n",
       "</table>\n",
       "</div>"
      ],
      "text/plain": [
       "                          file  notice  annex  total\n",
       "annabenhamou                 0       0      0      0\n",
       "bastien-mallein             19       0      0     19\n",
       "cyril-imbert                13       5      0     18\n",
       "davidgontier                 0       0      0      0\n",
       "djalil-chafai                1       1      0      2\n",
       "emmanuel-giroux              0       0      0      0\n",
       "gaetan-chenevier             0       0      0      0\n",
       "gpeyre                      22      13      0     35\n",
       "isabelle-gallagher          28       0      0     28\n",
       "laure-dumaz                  0       4      0      4\n",
       "laurentmoonens               0       0      0      0\n",
       "moussa                       0       0      0      0\n",
       "nicolas-bergeron             3       0      0      3\n",
       "olivier-benoist              0      15      0     15\n",
       "quentin-berger               0       0      0      0\n",
       "ricardo-grande-izquierdo     1       0      0      1\n",
       "silvain-rideau-kikuchi       1       0      0      1\n",
       "zaccharie-ramzi              0       0      0      0"
      ]
     },
     "execution_count": 33,
     "metadata": {},
     "output_type": "execute_result"
    }
   ],
   "source": [
    "dftot = pd.DataFrame.from_dict(totaux)\n",
    "df = pd.DataFrame.from_dict(data)\n",
    "dffin = [df, dftot]\n",
    "dffin = pd.concat(dffin)\n",
    "dffin = dffin.T\n",
    "dffin"
   ]
  },
  {
   "cell_type": "code",
   "execution_count": 34,
   "id": "243aa661",
   "metadata": {},
   "outputs": [
    {
     "data": {
      "text/plain": [
       "<AxesSubplot:>"
      ]
     },
     "execution_count": 34,
     "metadata": {},
     "output_type": "execute_result"
    },
    {
     "data": {
      "image/png": "[encoded data removed]",
      "text/plain": [
       "<Figure size 432x288 with 1 Axes>"
      ]
     },
     "metadata": {
      "needs_background": "light"
     },
     "output_type": "display_data"
    }
   ],
   "source": [
    "df = df.T # pour inverser colonnes et lignes\n",
    "df.plot.bar(stacked = True)"
   ]
  }
 ],
 "metadata": {
  "kernelspec": {
   "display_name": "Python 3 (ipykernel)",
   "language": "python",
   "name": "python3"
  },
  "language_info": {
   "codemirror_mode": {
    "name": "ipython",
    "version": 3
   },
   "file_extension": ".py",
   "mimetype": "text/x-python",
   "name": "python",
   "nbconvert_exporter": "python",
   "pygments_lexer": "ipython3",
   "version": "3.9.12"
  }
 },
 "nbformat": 4,
 "nbformat_minor": 5
}
